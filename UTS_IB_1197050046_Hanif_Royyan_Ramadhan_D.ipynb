{
  "nbformat": 4,
  "nbformat_minor": 0,
  "metadata": {
    "colab": {
      "name": "UTS IB_1197050046_Hanif Royyan Ramadhan_D.ipynb",
      "provenance": [],
      "collapsed_sections": [],
      "authorship_tag": "ABX9TyO4+9+U4vdi3vIRCFq8zPXJ",
      "include_colab_link": true
    },
    "kernelspec": {
      "name": "python3",
      "display_name": "Python 3"
    },
    "language_info": {
      "name": "python"
    }
  },
  "cells": [
    {
      "cell_type": "markdown",
      "metadata": {
        "id": "view-in-github",
        "colab_type": "text"
      },
      "source": [
        "<a href=\"https://colab.research.google.com/github/hanifroyyanramadhan/intelegensiabuatan/blob/main/UTS_IB_1197050046_Hanif_Royyan_Ramadhan_D.ipynb\" target=\"_parent\"><img src=\"https://colab.research.google.com/assets/colab-badge.svg\" alt=\"Open In Colab\"/></a>"
      ]
    },
    {
      "cell_type": "markdown",
      "metadata": {
        "id": "iRYJiZ0-WEzf"
      },
      "source": [
        "NAMA : Hanif Royyan Ramadhan\n",
        "\n",
        "NIM : 1197050046\n",
        "\n",
        "KELAS : Teori D\n",
        "\n",
        "MATA KULIAH : Intelegensia Buatan [UTS]\n",
        "\n",
        "Referensi dan dibantu oleh Muhammad Farhan Fadila Umam (1197050085)"
      ]
    },
    {
      "cell_type": "code",
      "metadata": {
        "colab": {
          "base_uri": "https://localhost:8080/",
          "height": 0
        },
        "id": "y47K8bVBMOoX",
        "outputId": "6beff34a-18bd-42ba-f127-e02010b7b527"
      },
      "source": [
        "pip install -U scikit-fuzzy"
      ],
      "execution_count": 1,
      "outputs": [
        {
          "output_type": "stream",
          "name": "stdout",
          "text": [
            "Collecting scikit-fuzzy\n",
            "  Downloading scikit-fuzzy-0.4.2.tar.gz (993 kB)\n",
            "\u001b[?25l\r\u001b[K     |▎                               | 10 kB 22.0 MB/s eta 0:00:01\r\u001b[K     |▋                               | 20 kB 10.5 MB/s eta 0:00:01\r\u001b[K     |█                               | 30 kB 8.6 MB/s eta 0:00:01\r\u001b[K     |█▎                              | 40 kB 7.7 MB/s eta 0:00:01\r\u001b[K     |█▋                              | 51 kB 4.2 MB/s eta 0:00:01\r\u001b[K     |██                              | 61 kB 4.5 MB/s eta 0:00:01\r\u001b[K     |██▎                             | 71 kB 4.5 MB/s eta 0:00:01\r\u001b[K     |██▋                             | 81 kB 5.0 MB/s eta 0:00:01\r\u001b[K     |███                             | 92 kB 5.2 MB/s eta 0:00:01\r\u001b[K     |███▎                            | 102 kB 4.1 MB/s eta 0:00:01\r\u001b[K     |███▋                            | 112 kB 4.1 MB/s eta 0:00:01\r\u001b[K     |████                            | 122 kB 4.1 MB/s eta 0:00:01\r\u001b[K     |████▎                           | 133 kB 4.1 MB/s eta 0:00:01\r\u001b[K     |████▋                           | 143 kB 4.1 MB/s eta 0:00:01\r\u001b[K     |█████                           | 153 kB 4.1 MB/s eta 0:00:01\r\u001b[K     |█████▎                          | 163 kB 4.1 MB/s eta 0:00:01\r\u001b[K     |█████▋                          | 174 kB 4.1 MB/s eta 0:00:01\r\u001b[K     |██████                          | 184 kB 4.1 MB/s eta 0:00:01\r\u001b[K     |██████▎                         | 194 kB 4.1 MB/s eta 0:00:01\r\u001b[K     |██████▋                         | 204 kB 4.1 MB/s eta 0:00:01\r\u001b[K     |███████                         | 215 kB 4.1 MB/s eta 0:00:01\r\u001b[K     |███████▎                        | 225 kB 4.1 MB/s eta 0:00:01\r\u001b[K     |███████▋                        | 235 kB 4.1 MB/s eta 0:00:01\r\u001b[K     |████████                        | 245 kB 4.1 MB/s eta 0:00:01\r\u001b[K     |████████▎                       | 256 kB 4.1 MB/s eta 0:00:01\r\u001b[K     |████████▋                       | 266 kB 4.1 MB/s eta 0:00:01\r\u001b[K     |█████████                       | 276 kB 4.1 MB/s eta 0:00:01\r\u001b[K     |█████████▎                      | 286 kB 4.1 MB/s eta 0:00:01\r\u001b[K     |█████████▋                      | 296 kB 4.1 MB/s eta 0:00:01\r\u001b[K     |██████████                      | 307 kB 4.1 MB/s eta 0:00:01\r\u001b[K     |██████████▏                     | 317 kB 4.1 MB/s eta 0:00:01\r\u001b[K     |██████████▌                     | 327 kB 4.1 MB/s eta 0:00:01\r\u001b[K     |██████████▉                     | 337 kB 4.1 MB/s eta 0:00:01\r\u001b[K     |███████████▏                    | 348 kB 4.1 MB/s eta 0:00:01\r\u001b[K     |███████████▌                    | 358 kB 4.1 MB/s eta 0:00:01\r\u001b[K     |███████████▉                    | 368 kB 4.1 MB/s eta 0:00:01\r\u001b[K     |████████████▏                   | 378 kB 4.1 MB/s eta 0:00:01\r\u001b[K     |████████████▌                   | 389 kB 4.1 MB/s eta 0:00:01\r\u001b[K     |████████████▉                   | 399 kB 4.1 MB/s eta 0:00:01\r\u001b[K     |█████████████▏                  | 409 kB 4.1 MB/s eta 0:00:01\r\u001b[K     |█████████████▌                  | 419 kB 4.1 MB/s eta 0:00:01\r\u001b[K     |█████████████▉                  | 430 kB 4.1 MB/s eta 0:00:01\r\u001b[K     |██████████████▏                 | 440 kB 4.1 MB/s eta 0:00:01\r\u001b[K     |██████████████▌                 | 450 kB 4.1 MB/s eta 0:00:01\r\u001b[K     |██████████████▉                 | 460 kB 4.1 MB/s eta 0:00:01\r\u001b[K     |███████████████▏                | 471 kB 4.1 MB/s eta 0:00:01\r\u001b[K     |███████████████▌                | 481 kB 4.1 MB/s eta 0:00:01\r\u001b[K     |███████████████▉                | 491 kB 4.1 MB/s eta 0:00:01\r\u001b[K     |████████████████▏               | 501 kB 4.1 MB/s eta 0:00:01\r\u001b[K     |████████████████▌               | 512 kB 4.1 MB/s eta 0:00:01\r\u001b[K     |████████████████▉               | 522 kB 4.1 MB/s eta 0:00:01\r\u001b[K     |█████████████████▏              | 532 kB 4.1 MB/s eta 0:00:01\r\u001b[K     |█████████████████▌              | 542 kB 4.1 MB/s eta 0:00:01\r\u001b[K     |█████████████████▉              | 552 kB 4.1 MB/s eta 0:00:01\r\u001b[K     |██████████████████▏             | 563 kB 4.1 MB/s eta 0:00:01\r\u001b[K     |██████████████████▌             | 573 kB 4.1 MB/s eta 0:00:01\r\u001b[K     |██████████████████▉             | 583 kB 4.1 MB/s eta 0:00:01\r\u001b[K     |███████████████████▏            | 593 kB 4.1 MB/s eta 0:00:01\r\u001b[K     |███████████████████▌            | 604 kB 4.1 MB/s eta 0:00:01\r\u001b[K     |███████████████████▉            | 614 kB 4.1 MB/s eta 0:00:01\r\u001b[K     |████████████████████            | 624 kB 4.1 MB/s eta 0:00:01\r\u001b[K     |████████████████████▍           | 634 kB 4.1 MB/s eta 0:00:01\r\u001b[K     |████████████████████▊           | 645 kB 4.1 MB/s eta 0:00:01\r\u001b[K     |█████████████████████           | 655 kB 4.1 MB/s eta 0:00:01\r\u001b[K     |█████████████████████▍          | 665 kB 4.1 MB/s eta 0:00:01\r\u001b[K     |█████████████████████▊          | 675 kB 4.1 MB/s eta 0:00:01\r\u001b[K     |██████████████████████          | 686 kB 4.1 MB/s eta 0:00:01\r\u001b[K     |██████████████████████▍         | 696 kB 4.1 MB/s eta 0:00:01\r\u001b[K     |██████████████████████▊         | 706 kB 4.1 MB/s eta 0:00:01\r\u001b[K     |███████████████████████         | 716 kB 4.1 MB/s eta 0:00:01\r\u001b[K     |███████████████████████▍        | 727 kB 4.1 MB/s eta 0:00:01\r\u001b[K     |███████████████████████▊        | 737 kB 4.1 MB/s eta 0:00:01\r\u001b[K     |████████████████████████        | 747 kB 4.1 MB/s eta 0:00:01\r\u001b[K     |████████████████████████▍       | 757 kB 4.1 MB/s eta 0:00:01\r\u001b[K     |████████████████████████▊       | 768 kB 4.1 MB/s eta 0:00:01\r\u001b[K     |█████████████████████████       | 778 kB 4.1 MB/s eta 0:00:01\r\u001b[K     |█████████████████████████▍      | 788 kB 4.1 MB/s eta 0:00:01\r\u001b[K     |█████████████████████████▊      | 798 kB 4.1 MB/s eta 0:00:01\r\u001b[K     |██████████████████████████      | 808 kB 4.1 MB/s eta 0:00:01\r\u001b[K     |██████████████████████████▍     | 819 kB 4.1 MB/s eta 0:00:01\r\u001b[K     |██████████████████████████▊     | 829 kB 4.1 MB/s eta 0:00:01\r\u001b[K     |███████████████████████████     | 839 kB 4.1 MB/s eta 0:00:01\r\u001b[K     |███████████████████████████▍    | 849 kB 4.1 MB/s eta 0:00:01\r\u001b[K     |███████████████████████████▊    | 860 kB 4.1 MB/s eta 0:00:01\r\u001b[K     |████████████████████████████    | 870 kB 4.1 MB/s eta 0:00:01\r\u001b[K     |████████████████████████████▍   | 880 kB 4.1 MB/s eta 0:00:01\r\u001b[K     |████████████████████████████▊   | 890 kB 4.1 MB/s eta 0:00:01\r\u001b[K     |█████████████████████████████   | 901 kB 4.1 MB/s eta 0:00:01\r\u001b[K     |█████████████████████████████▍  | 911 kB 4.1 MB/s eta 0:00:01\r\u001b[K     |█████████████████████████████▊  | 921 kB 4.1 MB/s eta 0:00:01\r\u001b[K     |██████████████████████████████  | 931 kB 4.1 MB/s eta 0:00:01\r\u001b[K     |██████████████████████████████▎ | 942 kB 4.1 MB/s eta 0:00:01\r\u001b[K     |██████████████████████████████▋ | 952 kB 4.1 MB/s eta 0:00:01\r\u001b[K     |███████████████████████████████ | 962 kB 4.1 MB/s eta 0:00:01\r\u001b[K     |███████████████████████████████▎| 972 kB 4.1 MB/s eta 0:00:01\r\u001b[K     |███████████████████████████████▋| 983 kB 4.1 MB/s eta 0:00:01\r\u001b[K     |████████████████████████████████| 993 kB 4.1 MB/s eta 0:00:01\r\u001b[K     |████████████████████████████████| 993 kB 4.1 MB/s \n",
            "\u001b[?25hRequirement already satisfied: numpy>=1.6.0 in /usr/local/lib/python3.7/dist-packages (from scikit-fuzzy) (1.19.5)\n",
            "Requirement already satisfied: scipy>=0.9.0 in /usr/local/lib/python3.7/dist-packages (from scikit-fuzzy) (1.4.1)\n",
            "Requirement already satisfied: networkx>=1.9.0 in /usr/local/lib/python3.7/dist-packages (from scikit-fuzzy) (2.6.3)\n",
            "Building wheels for collected packages: scikit-fuzzy\n",
            "  Building wheel for scikit-fuzzy (setup.py) ... \u001b[?25l\u001b[?25hdone\n",
            "  Created wheel for scikit-fuzzy: filename=scikit_fuzzy-0.4.2-py3-none-any.whl size=894089 sha256=42606ee587ea11bb0277299ab7338bc701a3cd0e2a1ff22784e15e0ac6647cae\n",
            "  Stored in directory: /root/.cache/pip/wheels/d5/74/fc/38588a3d2e3f34f74588e6daa3aa5b0a322bd6f9420a707131\n",
            "Successfully built scikit-fuzzy\n",
            "Installing collected packages: scikit-fuzzy\n",
            "Successfully installed scikit-fuzzy-0.4.2\n"
          ]
        }
      ]
    },
    {
      "cell_type": "code",
      "metadata": {
        "id": "fEVNsmVYM_S9"
      },
      "source": [
        "#DIKETAHUI:\n",
        "Max = [5000, 600, 7000] #5000 adalah permintaan, 600 adalah persediaan, dan 7000 adalah produksi\n",
        "Min = [1000, 100, 2000] #1000 adalah permintaan, 100 adalah persediaan, dan 2000 adalah produksi\n",
        "\n",
        "#PERTANYAAN:\n",
        "u = [4000, 300] #4000 adalah permintaan dan 300 adalah persediaan, maka jumlah produksi yang dibutuhkan?"
      ],
      "execution_count": 3,
      "outputs": []
    },
    {
      "cell_type": "code",
      "metadata": {
        "colab": {
          "base_uri": "https://localhost:8080/",
          "height": 0
        },
        "id": "xY96ofjfNE4N",
        "outputId": "b0ebf34c-9e41-4f61-976f-185621c8d380"
      },
      "source": [
        "#RUMUS FUZZIFIKASI\n",
        "def rumus_naik(x, y, z):\n",
        "    hasil = (y - z) / (x - z)\n",
        "    return hasil\n",
        "\n",
        "def rumus_turun(x, y, z):\n",
        "    hasil = (x - y) / (x - z)\n",
        "    return hasil\n",
        "\n",
        "SumNaik = [0, 0]\n",
        "SumTurun = [0, 0]\n",
        "keterangan = [\"permintaan\", \"produksi\"]\n",
        "for i in range(2):\n",
        "  SumNaik[i] = rumus_naik(Max[i], u[i], Min[i])\n",
        "  SumTurun[i] = rumus_turun(Max[i], u[i], Min[i])\n",
        "  print (\"Fuzzifikasi untuk tiap \" + keterangan[i]+\" Naik :\" + str(SumNaik[i]))\n",
        "  print (\"Fuzzifikasi untuk tiap \" + keterangan[i]+\" Turun :\" + str(SumTurun[i]))"
      ],
      "execution_count": 4,
      "outputs": [
        {
          "output_type": "stream",
          "name": "stdout",
          "text": [
            "Fuzzifikasi untuk tiap permintaan Naik :0.75\n",
            "Fuzzifikasi untuk tiap permintaan Turun :0.25\n",
            "Fuzzifikasi untuk tiap produksi Naik :0.4\n",
            "Fuzzifikasi untuk tiap produksi Turun :0.6\n"
          ]
        }
      ]
    },
    {
      "cell_type": "code",
      "metadata": {
        "colab": {
          "base_uri": "https://localhost:8080/",
          "height": 0
        },
        "id": "uGwMqWTdNLwk",
        "outputId": "6d2e9be4-3825-49b4-a29f-225b43ef69d4"
      },
      "source": [
        "#MENDAPATKAN INFERENSI\n",
        "def rumus_k_hasil_naik(p):\n",
        "  hasil = p * (Max[2] - Min[2]) + Min[2]\n",
        "  return hasil\n",
        "    \n",
        "def rumus_k_hasil_turun(q):\n",
        "  hasil = Max[2] - q * (Max[2] - Min[2])\n",
        "  return hasil\n",
        "\n",
        "alpha_predikat = [0, 0, 0, 0]\n",
        "k = [0, 0, 0, 0]\n",
        "print (\"Hasil Inferensi : \")\n",
        "for i in range (4):\n",
        "  if (i+1==1):\n",
        "    #RULE Ke-1\n",
        "    alpha_predikat[i] = min(SumTurun[0], SumNaik[1])\n",
        "    k[i] = rumus_k_hasil_turun(alpha_predikat[i])\n",
        "  if (i+1==2):\n",
        "    #RULE Ke-2\n",
        "    alpha_predikat[i] = min(SumTurun[0], SumTurun[1])\n",
        "    k[i]=rumus_k_hasil_turun(alpha_predikat[i])\n",
        "  if (i+1==3):\n",
        "    #RULE Ke-3\n",
        "    alpha_predikat[i] = min (SumNaik[0], SumNaik[1])\n",
        "    k[i] = rumus_k_hasil_naik(alpha_predikat[i])\n",
        "  if (i+1==4):\n",
        "    #RULE Ke-4\n",
        "    alpha_predikat[i] = min(SumNaik[0], SumTurun[1])\n",
        "    k[i] = rumus_k_hasil_naik(alpha_predikat[i])\n",
        "  print (\"\\nUntuk RULE Ke \" + str((i+1)))\n",
        "  print (\"Alpha Predikat : \" + str(alpha_predikat[i]))\n",
        "  print (\"K : \" + str(k[i]))"
      ],
      "execution_count": 5,
      "outputs": [
        {
          "output_type": "stream",
          "name": "stdout",
          "text": [
            "Hasil Inferensi : \n",
            "\n",
            "Untuk RULE Ke 1\n",
            "Alpha Predikat : 0.25\n",
            "K : 5750.0\n",
            "\n",
            "Untuk RULE Ke 2\n",
            "Alpha Predikat : 0.25\n",
            "K : 5750.0\n",
            "\n",
            "Untuk RULE Ke 3\n",
            "Alpha Predikat : 0.4\n",
            "K : 4000.0\n",
            "\n",
            "Untuk RULE Ke 4\n",
            "Alpha Predikat : 0.6\n",
            "K : 5000.0\n"
          ]
        }
      ]
    },
    {
      "cell_type": "code",
      "metadata": {
        "colab": {
          "base_uri": "https://localhost:8080/",
          "height": 0
        },
        "id": "fpm0sm3aNTuj",
        "outputId": "69773f6b-1a11-48a5-eda0-b993c5f9fe1e"
      },
      "source": [
        "#HASIL DEFUZZIFIKASI\n",
        "z_up = 0\n",
        "z_down = 0\n",
        "\n",
        "for i in range(4):\n",
        "  z_up += float(alpha_predikat[i]) * float(k[i])\n",
        "  z_down = z_down + alpha_predikat[i]\n",
        "z_result = z_up / z_down\n",
        "print (str(z_up) + \" : \" + str(z_down) + \" = \" + str(z_result))\n",
        "print (\"Jadi, jumlah makanan jenis ABC yang harus diproduksi yaitu sebanyak \" + str(int(z_result)))"
      ],
      "execution_count": 6,
      "outputs": [
        {
          "output_type": "stream",
          "name": "stdout",
          "text": [
            "7475.0 : 1.5 = 4983.333333333333\n",
            "Jadi, jumlah makanan jenis ABC yang harus diproduksi yaitu sebanyak 4983\n"
          ]
        }
      ]
    }
  ]
}